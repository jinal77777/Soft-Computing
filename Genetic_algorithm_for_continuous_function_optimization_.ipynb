{
  "nbformat": 4,
  "nbformat_minor": 0,
  "metadata": {
    "colab": {
      "provenance": []
    },
    "kernelspec": {
      "name": "python3",
      "display_name": "Python 3"
    },
    "language_info": {
      "name": "python"
    }
  },
  "cells": [
    {
      "cell_type": "markdown",
      "source": [
        "Genetic algorithm for continuous function optimization."
      ],
      "metadata": {
        "id": "NhRJUeUgEdoa"
      }
    },
    {
      "cell_type": "code",
      "source": [
        "from numpy.random import randint\n",
        "from numpy.random import rand"
      ],
      "metadata": {
        "id": "AIEH8eMlESfp"
      },
      "execution_count": 2,
      "outputs": []
    },
    {
      "cell_type": "code",
      "source": [
        "def objective(x):\n",
        "\treturn x[0]**2.0 + x[1]**2.0"
      ],
      "metadata": {
        "id": "AHLk0gZkEtTk"
      },
      "execution_count": 3,
      "outputs": []
    },
    {
      "cell_type": "code",
      "source": [
        "def decode(bounds, n_bits, bitstring):\n",
        "\tdecoded = list()\n",
        "\tlargest = 2**n_bits\n",
        "\tfor i in range(len(bounds)):\n",
        "\t\tstart, end = i * n_bits, (i * n_bits)+n_bits\n",
        "\t\tsubstring = bitstring[start:end]\n",
        "\t\tchars = ''.join([str(s) for s in substring])\n",
        "\t\tinteger = int(chars, 2)\n",
        "\t\tvalue = bounds[i][0] + (integer/largest) * (bounds[i][1] - bounds[i][0])\n",
        "\t\tdecoded.append(value)\n",
        "\treturn decoded"
      ],
      "metadata": {
        "id": "YARSWKosE-9p"
      },
      "execution_count": 5,
      "outputs": []
    },
    {
      "cell_type": "code",
      "source": [
        "def selection(pop, scores, k=3):\n",
        "\tselection_ix = randint(len(pop))\n",
        "\tfor ix in randint(0, len(pop), k-1):\n",
        "\t\tif scores[ix] < scores[selection_ix]:\n",
        "\t\t\tselection_ix = ix\n",
        "\treturn pop[selection_ix]"
      ],
      "metadata": {
        "id": "u59EDJoWFIDL"
      },
      "execution_count": 6,
      "outputs": []
    },
    {
      "cell_type": "code",
      "source": [
        "def crossover(p1, p2, r_cross):\n",
        "\tc1, c2 = p1.copy(), p2.copy()\n",
        "\tif rand() < r_cross:\n",
        "\t\tpt = randint(1, len(p1)-2)\n",
        "\t\tc1 = p1[:pt] + p2[pt:]\n",
        "\t\tc2 = p2[:pt] + p1[pt:]\n",
        "\treturn [c1, c2]"
      ],
      "metadata": {
        "id": "mfQPBItIFQxe"
      },
      "execution_count": 8,
      "outputs": []
    },
    {
      "cell_type": "code",
      "source": [
        "def mutation(bitstring, r_mut):\n",
        "\tfor i in range(len(bitstring)):\n",
        "\t\tif rand() < r_mut:\n",
        "\t\t\tbitstring[i] = 1 - bitstring[i]"
      ],
      "metadata": {
        "id": "qSQkxIGLFWUw"
      },
      "execution_count": 9,
      "outputs": []
    },
    {
      "cell_type": "code",
      "source": [
        "def genetic_algorithm(objective, bounds, n_bits, n_iter, n_pop, r_cross, r_mut):\n",
        "\tpop = [randint(0, 2, n_bits*len(bounds)).tolist() for _ in range(n_pop)]\n",
        "\tbest, best_eval = 0, objective(decode(bounds, n_bits, pop[0]))\n",
        "\tfor gen in range(n_iter):\n",
        "\t\tdecoded = [decode(bounds, n_bits, p) for p in pop]\n",
        "\t\tscores = [objective(d) for d in decoded]\n",
        "\t\tfor i in range(n_pop):\n",
        "\t\t\tif scores[i] < best_eval:\n",
        "\t\t\t\tbest, best_eval = pop[i], scores[i]\n",
        "\t\t\t\tprint(\">%d, new best f(%s) = %f\" % (gen,  decoded[i], scores[i]))\n",
        "\t\tselected = [selection(pop, scores) for _ in range(n_pop)]\n",
        "\t\tchildren = list()\n",
        "\t\tfor i in range(0, n_pop, 2):\n",
        "\t\t\tp1, p2 = selected[i], selected[i+1]\n",
        "\t\t\tfor c in crossover(p1, p2, r_cross):\n",
        "\t\t\t\tmutation(c, r_mut)\n",
        "\t\t\t\tchildren.append(c)\n",
        "\t\tpop = children\n",
        "\treturn [best, best_eval]"
      ],
      "metadata": {
        "id": "c0-wQJgRFgJG"
      },
      "execution_count": 12,
      "outputs": []
    },
    {
      "cell_type": "markdown",
      "source": [
        "Define range for input"
      ],
      "metadata": {
        "id": "Mp0qYD0lGDi8"
      }
    },
    {
      "cell_type": "code",
      "source": [
        "bounds = [[-5.0, 5.0], [-5.0, 5.0]]"
      ],
      "metadata": {
        "id": "v6fBwr_OFm8e"
      },
      "execution_count": 13,
      "outputs": []
    },
    {
      "cell_type": "markdown",
      "source": [
        "take the “n_bits” hyperparameter as a number of bits per input variable to the objective function and set it to 16 bits."
      ],
      "metadata": {
        "id": "-Kp_Mb1rGOGy"
      }
    },
    {
      "cell_type": "code",
      "source": [
        "n_bits = 16"
      ],
      "metadata": {
        "id": "Jlq1QhIhGNDj"
      },
      "execution_count": 14,
      "outputs": []
    },
    {
      "cell_type": "markdown",
      "source": [
        "Define the total iterations"
      ],
      "metadata": {
        "id": "b_rKHa3GGe1c"
      }
    },
    {
      "cell_type": "code",
      "source": [
        "n_iter = 100"
      ],
      "metadata": {
        "id": "Qs_eueW_GZwF"
      },
      "execution_count": 15,
      "outputs": []
    },
    {
      "cell_type": "markdown",
      "source": [
        "define the population size"
      ],
      "metadata": {
        "id": "714G7p8ZGvX9"
      }
    },
    {
      "cell_type": "code",
      "source": [
        "n_pop = 100"
      ],
      "metadata": {
        "id": "6Rqow_4nGjVu"
      },
      "execution_count": 16,
      "outputs": []
    },
    {
      "cell_type": "markdown",
      "source": [
        "crossover rate"
      ],
      "metadata": {
        "id": "mBrBBeESG9p9"
      }
    },
    {
      "cell_type": "code",
      "source": [
        "r_cross = 0.9"
      ],
      "metadata": {
        "id": "TIpozisTG5MO"
      },
      "execution_count": 17,
      "outputs": []
    },
    {
      "cell_type": "markdown",
      "source": [
        "mutation rate"
      ],
      "metadata": {
        "id": "KGPgenDXHCD7"
      }
    },
    {
      "cell_type": "code",
      "source": [
        "r_mut = 1.0 / (float(n_bits) * len(bounds))"
      ],
      "metadata": {
        "id": "5fKM8abQHA0N"
      },
      "execution_count": 18,
      "outputs": []
    },
    {
      "cell_type": "markdown",
      "source": [
        "perform the genetic algorithm search"
      ],
      "metadata": {
        "id": "3uUd7vLCHK-s"
      }
    },
    {
      "cell_type": "code",
      "source": [
        "best, score = genetic_algorithm(objective, bounds, n_bits, n_iter, n_pop, r_cross, r_mut)\n",
        "print('Done!')\n",
        "decoded = decode(bounds, n_bits, best)\n",
        "print('f(%s) = %f' % (decoded, score))"
      ],
      "metadata": {
        "colab": {
          "base_uri": "https://localhost:8080/"
        },
        "id": "Qof-h9JzHHRg",
        "outputId": "faf7c9ba-dd83-4fcd-cbd2-148e0e8eba40"
      },
      "execution_count": 20,
      "outputs": [
        {
          "output_type": "stream",
          "name": "stdout",
          "text": [
            ">0, new best f([2.78228759765625, 0.65704345703125]) = 8.172830\n",
            ">0, new best f([-0.82855224609375, -2.649383544921875]) = 7.705732\n",
            ">0, new best f([0.39276123046875, -1.516571044921875]) = 2.454249\n",
            ">0, new best f([-0.57464599609375, 0.224151611328125]) = 0.380462\n",
            ">0, new best f([0.1080322265625, -0.037078857421875]) = 0.013046\n",
            ">1, new best f([0.07598876953125, 0.031585693359375]) = 0.006772\n",
            ">4, new best f([-0.069122314453125, 0.029754638671875]) = 0.005663\n",
            ">4, new best f([-0.04791259765625, 0.035247802734375]) = 0.003538\n",
            ">5, new best f([-0.04791259765625, 0.031280517578125]) = 0.003274\n",
            ">5, new best f([-0.00701904296875, 0.030364990234375]) = 0.000971\n",
            ">5, new best f([-0.01983642578125, -0.019378662109375]) = 0.000769\n",
            ">8, new best f([-0.00396728515625, 0.013580322265625]) = 0.000200\n",
            ">10, new best f([-0.00457763671875, 0.012664794921875]) = 0.000181\n",
            ">11, new best f([-0.00457763671875, 0.012359619140625]) = 0.000174\n",
            ">11, new best f([-0.00396728515625, 0.012359619140625]) = 0.000168\n",
            ">12, new best f([-0.00213623046875, 0.005950927734375]) = 0.000040\n",
            ">12, new best f([-0.001983642578125, 0.001068115234375]) = 0.000005\n",
            ">16, new best f([-0.00091552734375, 0.000457763671875]) = 0.000001\n",
            ">18, new best f([-0.00030517578125, 0.000762939453125]) = 0.000001\n",
            ">20, new best f([-0.00030517578125, 0.000152587890625]) = 0.000000\n",
            ">25, new best f([-0.00030517578125, 0.0]) = 0.000000\n",
            ">30, new best f([-0.000152587890625, 0.000152587890625]) = 0.000000\n",
            ">33, new best f([-0.000152587890625, 0.0]) = 0.000000\n",
            "Done!\n",
            "f([-0.000152587890625, 0.0]) = 0.000000\n"
          ]
        }
      ]
    }
  ]
}
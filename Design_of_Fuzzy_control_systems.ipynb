{
  "nbformat": 4,
  "nbformat_minor": 0,
  "metadata": {
    "colab": {
      "provenance": []
    },
    "kernelspec": {
      "name": "python3",
      "display_name": "Python 3"
    },
    "language_info": {
      "name": "python"
    }
  },
  "cells": [
    {
      "cell_type": "markdown",
      "source": [
        "Design of Fuzzy control systems"
      ],
      "metadata": {
        "id": "2-AdmtcgnXtS"
      }
    },
    {
      "cell_type": "code",
      "source": [
        "import numpy as np"
      ],
      "metadata": {
        "id": "0mSAIL5blngr"
      },
      "execution_count": null,
      "outputs": []
    },
    {
      "cell_type": "code",
      "source": [
        "Speed = 120\n",
        "Acceleration = 125"
      ],
      "metadata": {
        "id": "5JSfrdd0l324"
      },
      "execution_count": null,
      "outputs": []
    },
    {
      "cell_type": "code",
      "source": [
        "print(\"The speed input is: \", Speed)\n",
        "print(\"The Acceleration input is: \", Acceleration)\n",
        "print(\"\\n\")"
      ],
      "metadata": {
        "colab": {
          "base_uri": "https://localhost:8080/"
        },
        "id": "GUEqDcNfl30C",
        "outputId": "94a20606-cbf3-4123-bf0e-593e4f3fe307"
      },
      "execution_count": null,
      "outputs": [
        {
          "output_type": "stream",
          "name": "stdout",
          "text": [
            "The speed input is:  120\n",
            "The Acceleration input is:  125\n",
            "\n",
            "\n"
          ]
        }
      ]
    },
    {
      "cell_type": "code",
      "source": [
        "#Functions for open left-Right fuzzyfication\n",
        "def openLeft(x,alpha, beta):\n",
        "    if x<alpha:\n",
        "        return 1\n",
        "    if alpha<x and x<=beta:\n",
        "        return (beta - x)/(beta - alpha)\n",
        "    else:\n",
        "        return 0\n",
        "\n",
        "def openRight(x,alpha, beta):\n",
        "    if x<alpha:\n",
        "        return 0\n",
        "    if alpha<x and x<=beta:\n",
        "        return (x-alpha)/(beta - alpha)\n",
        "    else:\n",
        "        return 0"
      ],
      "metadata": {
        "id": "xPjCEvPrl3v3"
      },
      "execution_count": null,
      "outputs": []
    },
    {
      "cell_type": "code",
      "source": [
        "# Function for traingular fuzzyfication\n",
        "def triangular(x,a,b,c):\n",
        "    return max(min((x-a)/(b-a), (c-x)/(c-b)),0)"
      ],
      "metadata": {
        "id": "5LnQC2Lal3uU"
      },
      "execution_count": null,
      "outputs": []
    },
    {
      "cell_type": "code",
      "source": [
        "#Fuzzy Partition\n",
        "def partition(x):\n",
        "    NL = 0;  NM = 0; NS = 0; ZE = 0; PS = 0; PM = 0; PL = 0\n",
        "\n",
        "    if x> 0 and x<60:\n",
        "        NL = openLeft(x,30,60)\n",
        "    if x> 30 and x<90:\n",
        "        NM = triangular(x,30,60,90)\n",
        "    if x> 60 and x<120:\n",
        "        NS = triangular(x,60,90,120)\n",
        "    if x> 90 and x<150:\n",
        "        ZE = triangular(x,90,120,150)\n",
        "    if x> 120 and x<180:\n",
        "        PS = triangular(x,120,150,180)\n",
        "    if x> 150 and x<210:\n",
        "        PM = triangular(x,120,150,180)\n",
        "    if x> 180 and x<240:\n",
        "        PL = openRight(x,180,210)\n",
        "\n",
        "    return NL,NM,NS,ZE,PS,PM,PL;"
      ],
      "metadata": {
        "id": "oFLCuCWFl3qH"
      },
      "execution_count": null,
      "outputs": []
    },
    {
      "cell_type": "code",
      "source": [
        "# Getting fuzzy values for all the inputs for all the fuzzy sets\n",
        "NLSD,NMSD,NSSD,ZESD,PSSD,PMSD,PLSD = partition(Speed)\n",
        "NLAC,NMAC,NSAC,ZEAC,PSAC,PMAC,PLAC = partition(Acceleration)"
      ],
      "metadata": {
        "id": "1F0C_RZol3n7"
      },
      "execution_count": null,
      "outputs": []
    },
    {
      "cell_type": "code",
      "source": [
        "# Display the fuzzy values for all fuzzy sets\n",
        "outPut = [[NLSD,NMSD,NSSD,ZESD,PSSD,PMSD,PLSD],\n",
        "          [NLAC,NMAC,NSAC,ZEAC,PSAC,PMAC,PLAC]]\n",
        "print(\"The fuzzy values of the crisp inputs\")\n",
        "print([\"NL\",\"NM\",\"NS\",\"ZE\",\"PS\",\"PM\",\"PLSD\"])\n",
        "print(np.round(outPut,2))"
      ],
      "metadata": {
        "colab": {
          "base_uri": "https://localhost:8080/"
        },
        "id": "TN83GdYfl3jn",
        "outputId": "13da5226-1a02-47ba-d699-a559cbe34d3e"
      },
      "execution_count": null,
      "outputs": [
        {
          "output_type": "stream",
          "name": "stdout",
          "text": [
            "The fuzzy values of the crisp inputs\n",
            "['NL', 'NM', 'NS', 'ZE', 'PS', 'PM', 'PLSD']\n",
            "[[0.   0.   0.   1.   0.   0.   0.  ]\n",
            " [0.   0.   0.   0.83 0.17 0.   0.  ]]\n"
          ]
        }
      ]
    },
    {
      "cell_type": "code",
      "source": [
        "# Rules implementation\n",
        "def compare(TC1, TC2):\n",
        "    TC = 0\n",
        "    if TC1>TC2 and TC1 !=0 and TC2 !=0:\n",
        "        TC = TC2\n",
        "    else:\n",
        "        TC = TC1\n",
        "\n",
        "    if TC1 == 0 and TC2 !=0:\n",
        "        TC = TC2\n",
        "\n",
        "    if TC2 == 0 and TC1 !=0:\n",
        "        TC = TC1\n",
        "\n",
        "    return TC\n"
      ],
      "metadata": {
        "id": "PFXmiG4nl3eB"
      },
      "execution_count": null,
      "outputs": []
    },
    {
      "cell_type": "code",
      "source": [
        "def rule(NLSD,NMSD,NSSD,ZESD,PSSD,PMSD,PLSD,NLAC,NMAC,NSAC,ZEAC,PSAC,PMAC,PLAC):\n",
        "    PLTC1 = min(NLSD,ZEAC)\n",
        "    PLTC2 = min(ZESD,NLAC)\n",
        "    PLTC = compare(PLTC1, PLTC2)\n",
        "\n",
        "    PMTC1 = min(NMSD,ZEAC)\n",
        "    PMTC2 = min(ZESD,NMAC)\n",
        "    PMTC = compare(PMTC1, PMTC2)\n",
        "\n",
        "    PSTC1 = min(NSSD,PSAC)\n",
        "    PSTC2 = min(ZESD,NSAC)\n",
        "    PSTC = compare(PSTC1, PSTC2)\n",
        "    NSTC = min(PSSD,NSAC)\n",
        "    NLTC = min(PLSD,ZEAC)\n",
        "\n",
        "    return PLTC, PMTC, PSTC, NSTC, NLTC;\n",
        "\n",
        "PLTC, PMTC, PSTC, NSTC, NLTC = rule(NLSD,NMSD,NSSD,ZESD,PSSD,PMSD,PLSD,NLAC,NMAC,NSAC,ZEAC,PSAC,PMAC,PLAC)\n",
        "\n",
        "print(\"\\n\")\n",
        "# Display the fuzzy values for all rules\n",
        "outPutRules = [[PLTC, PMTC, PSTC, NSTC, NLTC ]]\n",
        "print(\"The fuzzy output: \")\n",
        "print([\"PLTC\", \"PMTC\", \"PSTC\", \"NSTC\", \"NLTC\"])\n",
        "print(np.round(outPutRules,2))\n"
      ],
      "metadata": {
        "colab": {
          "base_uri": "https://localhost:8080/"
        },
        "id": "VPbsp4H2l3U-",
        "outputId": "7cd04775-e22d-45a9-85c5-b586b9fdde4f"
      },
      "execution_count": null,
      "outputs": [
        {
          "output_type": "stream",
          "name": "stdout",
          "text": [
            "\n",
            "\n",
            "The fuzzy output: \n",
            "['PLTC', 'PMTC', 'PSTC', 'NSTC', 'NLTC']\n",
            "[[0 0 0 0 0]]\n"
          ]
        }
      ]
    },
    {
      "cell_type": "code",
      "source": [
        "# De-fuzzyfication\n",
        "def areaTR(mu, a,b,c):\n",
        "    x1 = mu*(b-a) + a\n",
        "    x2 = c - mu*(c-b)\n",
        "    d1 = (c-a); d2 = x2-x1\n",
        "    a = (1/2)*mu*(d1 + d2)\n",
        "    return a # Returning area\n",
        "\n",
        "def areaOL(mu, alpha, beta):\n",
        "    xOL = beta -mu*(beta - alpha)\n",
        "    return 1/2*mu*(beta+ xOL), beta/2\n",
        "\n",
        "def areaOR(mu, alpha, beta):\n",
        "    xOR = (beta - alpha)*mu + alpha\n",
        "    aOR = (1/2)*mu*((240 - alpha) + (240 -xOR))\n",
        "    return aOR, (240 - alpha)/2 + alpha\n"
      ],
      "metadata": {
        "id": "ldI6Li3Ol3HF"
      },
      "execution_count": null,
      "outputs": []
    },
    {
      "cell_type": "code",
      "source": [
        "def defuzzyfication(PLTC, PMTC, PSTC, NSTC, NLTC):\n",
        "    areaPL = 0; areaPM = 0; areaPS = 0; areaNS = 0; areaNL = 0;\n",
        "    cPL = 0; cPM = 0; cPS = 0; cNS = 0; cNL = 0;\n",
        "\n",
        "    if PLTC != 0:\n",
        "        #areaPL, cPL = areaOR(PLTC, 180, 210)\n",
        "        areaPL, cPL = areaOR(PLTC, 180, 210)\n",
        "\n",
        "    if PMTC != 0:\n",
        "        areaPM = areaTR(PMTC, 150, 180, 210)\n",
        "        cPM = 180\n",
        "\n",
        "    if PSTC != 0:\n",
        "        areaPS = areaTR(PSTC, 120, 150, 180)\n",
        "        cPS = 150\n",
        "\n",
        "    if NSTC != 0:\n",
        "        areaNS = areaTR(NSTC, 60, 90, 120)\n",
        "        cNS = 90\n",
        "\n",
        "    if NLTC !=0:\n",
        "        areaNL, cNL = areaOL(NLTC, 30, 60)\n",
        "\n",
        "    numerator = areaPL*cPL + areaPM*cPM + areaPS*cPS + areaNS*cNS + areaNL*cNL\n",
        "    denominator = areaPL + areaPM + areaPS + areaNS + areaNL\n",
        "    if denominator ==0:\n",
        "        print(\"No rules exist to give the result\")\n",
        "        return 0\n",
        "    else:\n",
        "        crispOutput = numerator/denominator\n",
        "        return crispOutput\n",
        "crispOutputFinal = defuzzyfication(PLTC, PMTC, PSTC, NSTC, NLTC)\n",
        "\n",
        "if crispOutputFinal !=0:\n",
        "    print(\"\\nThe crisp TC value is: \", crispOutputFinal)"
      ],
      "metadata": {
        "colab": {
          "base_uri": "https://localhost:8080/"
        },
        "id": "lHXU_uZxmu_T",
        "outputId": "abba055c-7d6a-4dd2-917b-9a760559ae7d"
      },
      "execution_count": null,
      "outputs": [
        {
          "output_type": "stream",
          "name": "stdout",
          "text": [
            "No rules exist to give the result\n"
          ]
        }
      ]
    }
  ]
}
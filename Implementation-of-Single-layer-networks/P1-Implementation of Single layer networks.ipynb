{
 "cells": [
  {
   "cell_type": "code",
   "execution_count": 12,
   "id": "209b287a",
   "metadata": {},
   "outputs": [],
   "source": [
    "import pandas as pd\n",
    "import numpy as np\n",
    "import math\n",
    "from singleLayerNeuralNetwork import SingleLayerNeuralNetwork"
   ]
  },
  {
   "cell_type": "markdown",
   "id": "30ece6ac",
   "metadata": {},
   "source": [
    "AND Operator"
   ]
  },
  {
   "cell_type": "code",
   "execution_count": 13,
   "id": "22f69091",
   "metadata": {},
   "outputs": [],
   "source": [
    "data = pd.read_csv(\"data.csv\")"
   ]
  },
  {
   "cell_type": "code",
   "execution_count": 14,
   "id": "f050b280",
   "metadata": {},
   "outputs": [],
   "source": [
    "def split_data(data):\n",
    "    \n",
    "    y = data['r']\n",
    "    X = data.drop(labels='r',axis=1)\n",
    "    \n",
    "    y_train = y.iloc[:math.floor(data.shape[0]*0.7)]\n",
    "    X_train = X.iloc[:math.floor(data.shape[0]*0.7)]\n",
    "    \n",
    "    X_test = X.iloc[math.floor(data.shape[0]*0.7):]\n",
    "    y_test = y.iloc[math.floor(data.shape[0]*0.7):]\n",
    "    \n",
    "    return X_train,y_train,X_test,y_test"
   ]
  },
  {
   "cell_type": "code",
   "execution_count": 15,
   "id": "8a8a4dd6",
   "metadata": {},
   "outputs": [],
   "source": [
    "X_train,y_train,X_test,y_test = split_data(data)\n",
    "\n",
    "def activation_function(s): \n",
    "    if s > 1.8:\n",
    "        return 1\n",
    "    return 0"
   ]
  },
  {
   "cell_type": "code",
   "execution_count": 16,
   "id": "c71a7c5f",
   "metadata": {},
   "outputs": [],
   "source": [
    "model = SingleLayerNeuralNetwork(iterations=100,activation_function=activation_function,weights_interval=[0,1],biais=1,alpha=0.1)"
   ]
  },
  {
   "cell_type": "code",
   "execution_count": 17,
   "id": "434f8823",
   "metadata": {},
   "outputs": [
    {
     "data": {
      "text/plain": [
       "array([0., 0., 0., 0., 0., 0., 0., 0., 0., 0., 0.])"
      ]
     },
     "execution_count": 17,
     "metadata": {},
     "output_type": "execute_result"
    }
   ],
   "source": [
    "model.fit(X=X_train,y=y_train)"
   ]
  },
  {
   "cell_type": "code",
   "execution_count": 18,
   "id": "6a5d4e1c",
   "metadata": {},
   "outputs": [
    {
     "data": {
      "text/plain": [
       "x1    0.4\n",
       "x2    0.4\n",
       "x3    0.5\n",
       "x4    0.0\n",
       "Name: 3, dtype: float64"
      ]
     },
     "execution_count": 18,
     "metadata": {},
     "output_type": "execute_result"
    }
   ],
   "source": [
    "model.weights"
   ]
  },
  {
   "cell_type": "code",
   "execution_count": 19,
   "id": "92c6a965",
   "metadata": {},
   "outputs": [
    {
     "data": {
      "text/plain": [
       "array([0., 1., 0., 0., 1.])"
      ]
     },
     "execution_count": 19,
     "metadata": {},
     "output_type": "execute_result"
    }
   ],
   "source": [
    "model.predict(X_test)"
   ]
  },
  {
   "cell_type": "markdown",
   "id": "838ffe0c",
   "metadata": {},
   "source": [
    "OR Operator"
   ]
  },
  {
   "cell_type": "code",
   "execution_count": 28,
   "id": "85e4d237",
   "metadata": {},
   "outputs": [],
   "source": [
    "or_data = pd.read_csv(\"or_data.csv\")"
   ]
  },
  {
   "cell_type": "code",
   "execution_count": 29,
   "id": "4f2f5ad8",
   "metadata": {},
   "outputs": [],
   "source": [
    "X_train_0,y_train_0,X_test_0,y_test_0 = split_data(or_data)\n",
    "\n",
    "def or_activation_function(s):\n",
    "    if s >= 1.8:\n",
    "        return 1\n",
    "    return 0"
   ]
  },
  {
   "cell_type": "code",
   "execution_count": 30,
   "id": "6be651b5",
   "metadata": {},
   "outputs": [],
   "source": [
    "model_or = SingleLayerNeuralNetwork(iterations=100,activation_function=or_activation_function,weights_interval=[0,1],biais=1,alpha=0.1)"
   ]
  },
  {
   "cell_type": "code",
   "execution_count": 31,
   "id": "ba29e089",
   "metadata": {},
   "outputs": [
    {
     "data": {
      "text/plain": [
       "array([1., 1., 1., 1., 1., 1., 1., 1., 1., 1., 1.])"
      ]
     },
     "execution_count": 31,
     "metadata": {},
     "output_type": "execute_result"
    }
   ],
   "source": [
    "model_or.fit(X_train_0,y_train_0)"
   ]
  },
  {
   "cell_type": "code",
   "execution_count": 32,
   "id": "95d88ead",
   "metadata": {},
   "outputs": [
    {
     "data": {
      "text/plain": [
       "x1    0.5\n",
       "x2    0.5\n",
       "x3    0.7\n",
       "x4    0.7\n",
       "Name: 0, dtype: float64"
      ]
     },
     "execution_count": 32,
     "metadata": {},
     "output_type": "execute_result"
    }
   ],
   "source": [
    "model_or.weights"
   ]
  },
  {
   "cell_type": "code",
   "execution_count": 33,
   "id": "cfde95ed",
   "metadata": {},
   "outputs": [
    {
     "data": {
      "text/plain": [
       "array([1., 1., 1., 1., 0.])"
      ]
     },
     "execution_count": 33,
     "metadata": {},
     "output_type": "execute_result"
    }
   ],
   "source": [
    "model_or.predict(X_test_0)"
   ]
  },
  {
   "cell_type": "markdown",
   "id": "1d7a6717",
   "metadata": {},
   "source": [
    "Even or Odd"
   ]
  },
  {
   "cell_type": "code",
   "execution_count": 34,
   "id": "2ed417d4",
   "metadata": {},
   "outputs": [],
   "source": [
    "even_odd_data = pd.read_csv(\"even_odd_data.csv\")"
   ]
  },
  {
   "cell_type": "code",
   "execution_count": 35,
   "id": "bf8f69a3",
   "metadata": {},
   "outputs": [],
   "source": [
    "X_train_1,y_train_1,X_test_1,y_test_1 = split_data(even_odd_data)\n",
    "\n",
    "def even_odd_activation_function(s):\n",
    "    if s >= 1:\n",
    "        return 1\n",
    "    return 0"
   ]
  },
  {
   "cell_type": "code",
   "execution_count": 36,
   "id": "befe221a",
   "metadata": {},
   "outputs": [],
   "source": [
    "model_even_odd = SingleLayerNeuralNetwork(iterations=100,activation_function=even_odd_activation_function,weights_interval=[0,1],biais=1,alpha=0.1)"
   ]
  },
  {
   "cell_type": "code",
   "execution_count": 37,
   "id": "ddebba17",
   "metadata": {},
   "outputs": [
    {
     "data": {
      "text/plain": [
       "array([0., 1., 0., 1., 0., 1., 0.])"
      ]
     },
     "execution_count": 37,
     "metadata": {},
     "output_type": "execute_result"
    }
   ],
   "source": [
    "model_even_odd.fit(X_train_1,y_train_1)"
   ]
  },
  {
   "cell_type": "code",
   "execution_count": 38,
   "id": "ca23ff6f",
   "metadata": {},
   "outputs": [
    {
     "data": {
      "text/plain": [
       "x1    6.000000e-01\n",
       "x2   -1.000000e-01\n",
       "x3    5.000000e-01\n",
       "x4   -3.000000e-01\n",
       "x5   -6.000000e-01\n",
       "x6   -3.000000e-01\n",
       "x7    1.387779e-16\n",
       "Name: 0, dtype: float64"
      ]
     },
     "execution_count": 38,
     "metadata": {},
     "output_type": "execute_result"
    }
   ],
   "source": [
    "model_even_odd.weights"
   ]
  },
  {
   "cell_type": "code",
   "execution_count": 39,
   "id": "361d952a",
   "metadata": {},
   "outputs": [
    {
     "data": {
      "text/plain": [
       "array([1., 0., 1.])"
      ]
     },
     "execution_count": 39,
     "metadata": {},
     "output_type": "execute_result"
    }
   ],
   "source": [
    "model_even_odd.predict(X_test_1)"
   ]
  },
  {
   "cell_type": "code",
   "execution_count": null,
   "id": "9b787a1c",
   "metadata": {},
   "outputs": [],
   "source": []
  }
 ],
 "metadata": {
  "kernelspec": {
   "display_name": "Python 3 (ipykernel)",
   "language": "python",
   "name": "python3"
  },
  "language_info": {
   "codemirror_mode": {
    "name": "ipython",
    "version": 3
   },
   "file_extension": ".py",
   "mimetype": "text/x-python",
   "name": "python",
   "nbconvert_exporter": "python",
   "pygments_lexer": "ipython3",
   "version": "3.9.13"
  }
 },
 "nbformat": 4,
 "nbformat_minor": 5
}
